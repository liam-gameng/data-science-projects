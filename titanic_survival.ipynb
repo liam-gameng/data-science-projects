{
 "cells": [
  {
   "cell_type": "markdown",
   "id": "beb6c851",
   "metadata": {},
   "source": [
    "# Titanic - Who will survive?\n",
    "### Liam Gameng\n",
    "The Titanic, a British passenger liner, sank in the North Atlantic Ocean on 15 April 1912, after\n",
    "striking an iceberg during her maiden voyage from Southampton to New York City. Of the\n",
    "estimated 2,224 passengers and crew aboard, more than 1,500 died, making the sinking at the\n",
    "time one of the deadliest of a single ship and the deadliest peacetime sinking of a superliner or\n",
    "cruise ship to date. This project allows us to gain insight into how to survive from such a\n",
    "catastrophe, is it pure luck or is it something else?\n",
    "\n",
    "**Useful Variable Definitions:** \\\n",
    "Survival - Did the passenger survive? (0 = No, 1 = Yes)\\\n",
    "pclass - Ticket class (1 = 1st, 2 = 2nd, 3 = 3rd)\\\n",
    "Sibsp - Number of siblings and spouses aboard the Titanic\\\n",
    "Parch - Number of parents and children aboard the Titanic\\\n",
    "Embarked - Port of embarkation (C = Cherbourg, Q = Queenstown, S = Southampton)\n",
    "\n",
    "## Exploratory Data Analysis\n",
    "Before we can produce models to determine whether or not a passenger survives based on the training data, we must first determine what features of the dataset are predictive of survival. This will be done through exploratory data analysis after doing any necessary data cleaning, where relationships between certain variables will be analyzed.\n",
    "\n",
    "### Data Cleaning\n",
    "The first step in the exploratory data analysis process is to clean the data, which means the features should be analyzed to determine what features should be dropped and if any additonal inputation or deletion is necessary. But first, the proper packages should be imported and as well as the data to be used for training and testing"
   ]
  },
  {
   "cell_type": "code",
   "execution_count": 1,
   "id": "41ef3fc3",
   "metadata": {},
   "outputs": [],
   "source": [
    "# Importing packages\n",
    "import pandas as pd\n",
    "import numpy as np\n",
    "import random as rand\n",
    "from matplotlib import pyplot as plt\n",
    "import seaborn as sns\n",
    "\n",
    "# Importing modeling algorithms\n",
    "from sklearn.linear_model import SGDClassifier\n",
    "from sklearn.neighbors import KNeighborsClassifier\n",
    "from sklearn.ensemble import RandomForestClassifier\n",
    "import sklearn.metrics as metric\n",
    "from sklearn.model_selection import train_test_split\n",
    "\n",
    "# Importing training csv file\n",
    "df = pd.read_csv('train.csv')\n",
    "\n",
    "# Rename Pclass\n",
    "df = df.rename(columns={'Pclass': 'TicketClass'})"
   ]
  },
  {
   "cell_type": "markdown",
   "id": "61227486",
   "metadata": {},
   "source": [
    "Next we check for missing features and duplicates for the entries in the dataset."
   ]
  },
  {
   "cell_type": "code",
   "execution_count": 2,
   "id": "0586cf5f",
   "metadata": {},
   "outputs": [
    {
     "data": {
      "text/plain": [
       "PassengerId      0\n",
       "Survived         0\n",
       "TicketClass      0\n",
       "Name             0\n",
       "Sex              0\n",
       "Age            177\n",
       "SibSp            0\n",
       "Parch            0\n",
       "Ticket           0\n",
       "Fare             0\n",
       "Cabin          687\n",
       "Embarked         2\n",
       "dtype: int64"
      ]
     },
     "execution_count": 2,
     "metadata": {},
     "output_type": "execute_result"
    }
   ],
   "source": [
    "# find total null values for each feature\n",
    "df.isnull().sum()"
   ]
  },
  {
   "cell_type": "code",
   "execution_count": 3,
   "id": "3a171390",
   "metadata": {},
   "outputs": [
    {
     "data": {
      "text/plain": [
       "0"
      ]
     },
     "execution_count": 3,
     "metadata": {},
     "output_type": "execute_result"
    }
   ],
   "source": [
    "# find number of duplicate entries\n",
    "df.duplicated().sum()"
   ]
  },
  {
   "cell_type": "markdown",
   "id": "4eedb603",
   "metadata": {},
   "source": [
    "As shown above, the training set has not duplicate entries. However, there are \"Age\" values missing for 177 passengers, \"Cabin\" values missing for 687 passengers, and \"Embarked\" values missing for 2 passengers. Since there is so much missing data for \"Cabin\", it is fair to drop this features from the dataset. Since \"Age\" is likely an important factor in survival rate, due to the idea of giving prioirity to women and children for lifeboats, and since \"Embarked\" is only missing for two entries these features should be kept."
   ]
  },
  {
   "cell_type": "code",
   "execution_count": 4,
   "id": "4afbd3ff",
   "metadata": {},
   "outputs": [],
   "source": [
    "# Dropping the 'Cabin' feature\n",
    "df = df.drop(['Cabin'], axis = 1)"
   ]
  },
  {
   "cell_type": "markdown",
   "id": "19e89c62",
   "metadata": {},
   "source": [
    "Now that this feature is dropped, let's analyze the remaining features to better understand the dataset"
   ]
  },
  {
   "cell_type": "code",
   "execution_count": 5,
   "id": "bd84d984",
   "metadata": {},
   "outputs": [
    {
     "data": {
      "text/html": [
       "<div>\n",
       "<style scoped>\n",
       "    .dataframe tbody tr th:only-of-type {\n",
       "        vertical-align: middle;\n",
       "    }\n",
       "\n",
       "    .dataframe tbody tr th {\n",
       "        vertical-align: top;\n",
       "    }\n",
       "\n",
       "    .dataframe thead th {\n",
       "        text-align: right;\n",
       "    }\n",
       "</style>\n",
       "<table border=\"1\" class=\"dataframe\">\n",
       "  <thead>\n",
       "    <tr style=\"text-align: right;\">\n",
       "      <th></th>\n",
       "      <th>PassengerId</th>\n",
       "      <th>Survived</th>\n",
       "      <th>TicketClass</th>\n",
       "      <th>Name</th>\n",
       "      <th>Sex</th>\n",
       "      <th>Age</th>\n",
       "      <th>SibSp</th>\n",
       "      <th>Parch</th>\n",
       "      <th>Ticket</th>\n",
       "      <th>Fare</th>\n",
       "      <th>Embarked</th>\n",
       "    </tr>\n",
       "  </thead>\n",
       "  <tbody>\n",
       "    <tr>\n",
       "      <th>0</th>\n",
       "      <td>1</td>\n",
       "      <td>0</td>\n",
       "      <td>3</td>\n",
       "      <td>Braund, Mr. Owen Harris</td>\n",
       "      <td>male</td>\n",
       "      <td>22.0</td>\n",
       "      <td>1</td>\n",
       "      <td>0</td>\n",
       "      <td>A/5 21171</td>\n",
       "      <td>7.2500</td>\n",
       "      <td>S</td>\n",
       "    </tr>\n",
       "    <tr>\n",
       "      <th>1</th>\n",
       "      <td>2</td>\n",
       "      <td>1</td>\n",
       "      <td>1</td>\n",
       "      <td>Cumings, Mrs. John Bradley (Florence Briggs Th...</td>\n",
       "      <td>female</td>\n",
       "      <td>38.0</td>\n",
       "      <td>1</td>\n",
       "      <td>0</td>\n",
       "      <td>PC 17599</td>\n",
       "      <td>71.2833</td>\n",
       "      <td>C</td>\n",
       "    </tr>\n",
       "    <tr>\n",
       "      <th>2</th>\n",
       "      <td>3</td>\n",
       "      <td>1</td>\n",
       "      <td>3</td>\n",
       "      <td>Heikkinen, Miss. Laina</td>\n",
       "      <td>female</td>\n",
       "      <td>26.0</td>\n",
       "      <td>0</td>\n",
       "      <td>0</td>\n",
       "      <td>STON/O2. 3101282</td>\n",
       "      <td>7.9250</td>\n",
       "      <td>S</td>\n",
       "    </tr>\n",
       "    <tr>\n",
       "      <th>3</th>\n",
       "      <td>4</td>\n",
       "      <td>1</td>\n",
       "      <td>1</td>\n",
       "      <td>Futrelle, Mrs. Jacques Heath (Lily May Peel)</td>\n",
       "      <td>female</td>\n",
       "      <td>35.0</td>\n",
       "      <td>1</td>\n",
       "      <td>0</td>\n",
       "      <td>113803</td>\n",
       "      <td>53.1000</td>\n",
       "      <td>S</td>\n",
       "    </tr>\n",
       "    <tr>\n",
       "      <th>4</th>\n",
       "      <td>5</td>\n",
       "      <td>0</td>\n",
       "      <td>3</td>\n",
       "      <td>Allen, Mr. William Henry</td>\n",
       "      <td>male</td>\n",
       "      <td>35.0</td>\n",
       "      <td>0</td>\n",
       "      <td>0</td>\n",
       "      <td>373450</td>\n",
       "      <td>8.0500</td>\n",
       "      <td>S</td>\n",
       "    </tr>\n",
       "  </tbody>\n",
       "</table>\n",
       "</div>"
      ],
      "text/plain": [
       "   PassengerId  Survived  TicketClass  \\\n",
       "0            1         0            3   \n",
       "1            2         1            1   \n",
       "2            3         1            3   \n",
       "3            4         1            1   \n",
       "4            5         0            3   \n",
       "\n",
       "                                                Name     Sex   Age  SibSp  \\\n",
       "0                            Braund, Mr. Owen Harris    male  22.0      1   \n",
       "1  Cumings, Mrs. John Bradley (Florence Briggs Th...  female  38.0      1   \n",
       "2                             Heikkinen, Miss. Laina  female  26.0      0   \n",
       "3       Futrelle, Mrs. Jacques Heath (Lily May Peel)  female  35.0      1   \n",
       "4                           Allen, Mr. William Henry    male  35.0      0   \n",
       "\n",
       "   Parch            Ticket     Fare Embarked  \n",
       "0      0         A/5 21171   7.2500        S  \n",
       "1      0          PC 17599  71.2833        C  \n",
       "2      0  STON/O2. 3101282   7.9250        S  \n",
       "3      0            113803  53.1000        S  \n",
       "4      0            373450   8.0500        S  "
      ]
     },
     "execution_count": 5,
     "metadata": {},
     "output_type": "execute_result"
    }
   ],
   "source": [
    "# Print first five entries of the dataset to see how features are represented\n",
    "df.head(5)"
   ]
  },
  {
   "cell_type": "markdown",
   "id": "6954d92a",
   "metadata": {},
   "source": [
    "After seeing this representation, it is pretty clear that \"PassengerId\" is simply an index for the data and this feature can be dropped. Also, the \"Name\" data seems a bit messy and is likely not too useful for predicting survival. The only potential use for names would be to get their titles (i.e. Mr., Mrs., Lord), but this feature would likely not give us additonal information given the gender and class of each passenger is known data."
   ]
  },
  {
   "cell_type": "code",
   "execution_count": 6,
   "id": "aa014e4d",
   "metadata": {},
   "outputs": [
    {
     "data": {
      "text/html": [
       "<div>\n",
       "<style scoped>\n",
       "    .dataframe tbody tr th:only-of-type {\n",
       "        vertical-align: middle;\n",
       "    }\n",
       "\n",
       "    .dataframe tbody tr th {\n",
       "        vertical-align: top;\n",
       "    }\n",
       "\n",
       "    .dataframe thead th {\n",
       "        text-align: right;\n",
       "    }\n",
       "</style>\n",
       "<table border=\"1\" class=\"dataframe\">\n",
       "  <thead>\n",
       "    <tr style=\"text-align: right;\">\n",
       "      <th></th>\n",
       "      <th>Survived</th>\n",
       "      <th>TicketClass</th>\n",
       "      <th>Sex</th>\n",
       "      <th>Age</th>\n",
       "      <th>SibSp</th>\n",
       "      <th>Parch</th>\n",
       "      <th>Ticket</th>\n",
       "      <th>Fare</th>\n",
       "      <th>Embarked</th>\n",
       "    </tr>\n",
       "  </thead>\n",
       "  <tbody>\n",
       "    <tr>\n",
       "      <th>0</th>\n",
       "      <td>0</td>\n",
       "      <td>3</td>\n",
       "      <td>male</td>\n",
       "      <td>22.0</td>\n",
       "      <td>1</td>\n",
       "      <td>0</td>\n",
       "      <td>A/5 21171</td>\n",
       "      <td>7.2500</td>\n",
       "      <td>S</td>\n",
       "    </tr>\n",
       "    <tr>\n",
       "      <th>1</th>\n",
       "      <td>1</td>\n",
       "      <td>1</td>\n",
       "      <td>female</td>\n",
       "      <td>38.0</td>\n",
       "      <td>1</td>\n",
       "      <td>0</td>\n",
       "      <td>PC 17599</td>\n",
       "      <td>71.2833</td>\n",
       "      <td>C</td>\n",
       "    </tr>\n",
       "    <tr>\n",
       "      <th>2</th>\n",
       "      <td>1</td>\n",
       "      <td>3</td>\n",
       "      <td>female</td>\n",
       "      <td>26.0</td>\n",
       "      <td>0</td>\n",
       "      <td>0</td>\n",
       "      <td>STON/O2. 3101282</td>\n",
       "      <td>7.9250</td>\n",
       "      <td>S</td>\n",
       "    </tr>\n",
       "    <tr>\n",
       "      <th>3</th>\n",
       "      <td>1</td>\n",
       "      <td>1</td>\n",
       "      <td>female</td>\n",
       "      <td>35.0</td>\n",
       "      <td>1</td>\n",
       "      <td>0</td>\n",
       "      <td>113803</td>\n",
       "      <td>53.1000</td>\n",
       "      <td>S</td>\n",
       "    </tr>\n",
       "    <tr>\n",
       "      <th>4</th>\n",
       "      <td>0</td>\n",
       "      <td>3</td>\n",
       "      <td>male</td>\n",
       "      <td>35.0</td>\n",
       "      <td>0</td>\n",
       "      <td>0</td>\n",
       "      <td>373450</td>\n",
       "      <td>8.0500</td>\n",
       "      <td>S</td>\n",
       "    </tr>\n",
       "  </tbody>\n",
       "</table>\n",
       "</div>"
      ],
      "text/plain": [
       "   Survived  TicketClass     Sex   Age  SibSp  Parch            Ticket  \\\n",
       "0         0            3    male  22.0      1      0         A/5 21171   \n",
       "1         1            1  female  38.0      1      0          PC 17599   \n",
       "2         1            3  female  26.0      0      0  STON/O2. 3101282   \n",
       "3         1            1  female  35.0      1      0            113803   \n",
       "4         0            3    male  35.0      0      0            373450   \n",
       "\n",
       "      Fare Embarked  \n",
       "0   7.2500        S  \n",
       "1  71.2833        C  \n",
       "2   7.9250        S  \n",
       "3  53.1000        S  \n",
       "4   8.0500        S  "
      ]
     },
     "execution_count": 6,
     "metadata": {},
     "output_type": "execute_result"
    }
   ],
   "source": [
    "# Drop 'PassengerId' and 'Name' features\n",
    "df = df.drop(['PassengerId', 'Name'], axis = 1)\n",
    "df.head(5)"
   ]
  },
  {
   "cell_type": "markdown",
   "id": "d65a3874",
   "metadata": {},
   "source": [
    "In addition to these features, the \"SibSp\" and \"Parch\" features likely can be combined in order to get a \"FamilySize\" feature since this will likely reflect similar patterns to each individual feature."
   ]
  },
  {
   "cell_type": "code",
   "execution_count": 7,
   "id": "c59e74ca",
   "metadata": {},
   "outputs": [
    {
     "data": {
      "text/html": [
       "<div>\n",
       "<style scoped>\n",
       "    .dataframe tbody tr th:only-of-type {\n",
       "        vertical-align: middle;\n",
       "    }\n",
       "\n",
       "    .dataframe tbody tr th {\n",
       "        vertical-align: top;\n",
       "    }\n",
       "\n",
       "    .dataframe thead th {\n",
       "        text-align: right;\n",
       "    }\n",
       "</style>\n",
       "<table border=\"1\" class=\"dataframe\">\n",
       "  <thead>\n",
       "    <tr style=\"text-align: right;\">\n",
       "      <th></th>\n",
       "      <th>Survived</th>\n",
       "      <th>TicketClass</th>\n",
       "      <th>Sex</th>\n",
       "      <th>Age</th>\n",
       "      <th>Ticket</th>\n",
       "      <th>Fare</th>\n",
       "      <th>Embarked</th>\n",
       "      <th>FamilySize</th>\n",
       "    </tr>\n",
       "  </thead>\n",
       "  <tbody>\n",
       "    <tr>\n",
       "      <th>0</th>\n",
       "      <td>0</td>\n",
       "      <td>3</td>\n",
       "      <td>male</td>\n",
       "      <td>22.0</td>\n",
       "      <td>A/5 21171</td>\n",
       "      <td>7.2500</td>\n",
       "      <td>S</td>\n",
       "      <td>2</td>\n",
       "    </tr>\n",
       "    <tr>\n",
       "      <th>1</th>\n",
       "      <td>1</td>\n",
       "      <td>1</td>\n",
       "      <td>female</td>\n",
       "      <td>38.0</td>\n",
       "      <td>PC 17599</td>\n",
       "      <td>71.2833</td>\n",
       "      <td>C</td>\n",
       "      <td>2</td>\n",
       "    </tr>\n",
       "    <tr>\n",
       "      <th>2</th>\n",
       "      <td>1</td>\n",
       "      <td>3</td>\n",
       "      <td>female</td>\n",
       "      <td>26.0</td>\n",
       "      <td>STON/O2. 3101282</td>\n",
       "      <td>7.9250</td>\n",
       "      <td>S</td>\n",
       "      <td>1</td>\n",
       "    </tr>\n",
       "    <tr>\n",
       "      <th>3</th>\n",
       "      <td>1</td>\n",
       "      <td>1</td>\n",
       "      <td>female</td>\n",
       "      <td>35.0</td>\n",
       "      <td>113803</td>\n",
       "      <td>53.1000</td>\n",
       "      <td>S</td>\n",
       "      <td>2</td>\n",
       "    </tr>\n",
       "    <tr>\n",
       "      <th>4</th>\n",
       "      <td>0</td>\n",
       "      <td>3</td>\n",
       "      <td>male</td>\n",
       "      <td>35.0</td>\n",
       "      <td>373450</td>\n",
       "      <td>8.0500</td>\n",
       "      <td>S</td>\n",
       "      <td>1</td>\n",
       "    </tr>\n",
       "  </tbody>\n",
       "</table>\n",
       "</div>"
      ],
      "text/plain": [
       "   Survived  TicketClass     Sex   Age            Ticket     Fare Embarked  \\\n",
       "0         0            3    male  22.0         A/5 21171   7.2500        S   \n",
       "1         1            1  female  38.0          PC 17599  71.2833        C   \n",
       "2         1            3  female  26.0  STON/O2. 3101282   7.9250        S   \n",
       "3         1            1  female  35.0            113803  53.1000        S   \n",
       "4         0            3    male  35.0            373450   8.0500        S   \n",
       "\n",
       "   FamilySize  \n",
       "0           2  \n",
       "1           2  \n",
       "2           1  \n",
       "3           2  \n",
       "4           1  "
      ]
     },
     "execution_count": 7,
     "metadata": {},
     "output_type": "execute_result"
    }
   ],
   "source": [
    "# Adding number of siblings, parents, and children to get a family size and dropping 'SibSp' and 'Parch' features\n",
    "df['FamilySize'] = df['SibSp'] + df['Parch'] + 1\n",
    "df = df.drop(['SibSp', 'Parch'], axis = 1)\n",
    "df.head(5)"
   ]
  },
  {
   "cell_type": "markdown",
   "id": "a2c7f304",
   "metadata": {},
   "source": [
    "Now let's analyze the data first by using 'describe' on the categorical data."
   ]
  },
  {
   "cell_type": "code",
   "execution_count": 8,
   "id": "82e9e8b6",
   "metadata": {},
   "outputs": [
    {
     "data": {
      "text/html": [
       "<div>\n",
       "<style scoped>\n",
       "    .dataframe tbody tr th:only-of-type {\n",
       "        vertical-align: middle;\n",
       "    }\n",
       "\n",
       "    .dataframe tbody tr th {\n",
       "        vertical-align: top;\n",
       "    }\n",
       "\n",
       "    .dataframe thead th {\n",
       "        text-align: right;\n",
       "    }\n",
       "</style>\n",
       "<table border=\"1\" class=\"dataframe\">\n",
       "  <thead>\n",
       "    <tr style=\"text-align: right;\">\n",
       "      <th></th>\n",
       "      <th>Sex</th>\n",
       "      <th>Ticket</th>\n",
       "      <th>Embarked</th>\n",
       "    </tr>\n",
       "  </thead>\n",
       "  <tbody>\n",
       "    <tr>\n",
       "      <th>count</th>\n",
       "      <td>891</td>\n",
       "      <td>891</td>\n",
       "      <td>889</td>\n",
       "    </tr>\n",
       "    <tr>\n",
       "      <th>unique</th>\n",
       "      <td>2</td>\n",
       "      <td>681</td>\n",
       "      <td>3</td>\n",
       "    </tr>\n",
       "    <tr>\n",
       "      <th>top</th>\n",
       "      <td>male</td>\n",
       "      <td>347082</td>\n",
       "      <td>S</td>\n",
       "    </tr>\n",
       "    <tr>\n",
       "      <th>freq</th>\n",
       "      <td>577</td>\n",
       "      <td>7</td>\n",
       "      <td>644</td>\n",
       "    </tr>\n",
       "  </tbody>\n",
       "</table>\n",
       "</div>"
      ],
      "text/plain": [
       "         Sex  Ticket Embarked\n",
       "count    891     891      889\n",
       "unique     2     681        3\n",
       "top     male  347082        S\n",
       "freq     577       7      644"
      ]
     },
     "execution_count": 8,
     "metadata": {},
     "output_type": "execute_result"
    }
   ],
   "source": [
    "# Describe categorical data\n",
    "df.describe(include=['O'])"
   ]
  },
  {
   "cell_type": "markdown",
   "id": "49cba72c",
   "metadata": {},
   "source": [
    "The categorical data shows that there are a significant amount of duplicate tickets, and based on viewing the data it seems like the \"Ticket\" feature will likely not be too useful for predicting survivability. It is likely this feature is somewhat dependent on the location of embarking and the class of the ticket anyway."
   ]
  },
  {
   "cell_type": "code",
   "execution_count": 9,
   "id": "27edcd95",
   "metadata": {},
   "outputs": [],
   "source": [
    "# Drop 'ticket' feature\n",
    "df = df.drop(['Ticket'], axis = 1)"
   ]
  },
  {
   "cell_type": "markdown",
   "id": "d7ed86e0",
   "metadata": {},
   "source": [
    "Now is also a good time to consider how data should be represented when training a model. It is probably best to represent categorical data as a numerical value, such as assigning '0' to 'male' and '1' to female for the \"Sex\" features and since there are only 3 unique values for the \"Embarked\" feature this can also be converted to in integer value. '1' will be assigned to Cherbourg, '2' to Queenstown, and '3' to Southampton. However, we have two entries with missing \"Embarked\" features which will simply be inputed with the most used port of embarkation."
   ]
  },
  {
   "cell_type": "code",
   "execution_count": 10,
   "id": "46782439",
   "metadata": {},
   "outputs": [],
   "source": [
    "# Inputing missing 'Embarked' values with most embarked port\n",
    "most_embarked = df.Embarked.dropna().mode()[0]\n",
    "df['Embarked'] = df['Embarked'].fillna(most_embarked)"
   ]
  },
  {
   "cell_type": "code",
   "execution_count": 11,
   "id": "88e22c67",
   "metadata": {},
   "outputs": [
    {
     "data": {
      "text/html": [
       "<div>\n",
       "<style scoped>\n",
       "    .dataframe tbody tr th:only-of-type {\n",
       "        vertical-align: middle;\n",
       "    }\n",
       "\n",
       "    .dataframe tbody tr th {\n",
       "        vertical-align: top;\n",
       "    }\n",
       "\n",
       "    .dataframe thead th {\n",
       "        text-align: right;\n",
       "    }\n",
       "</style>\n",
       "<table border=\"1\" class=\"dataframe\">\n",
       "  <thead>\n",
       "    <tr style=\"text-align: right;\">\n",
       "      <th></th>\n",
       "      <th>Survived</th>\n",
       "      <th>TicketClass</th>\n",
       "      <th>Sex</th>\n",
       "      <th>Age</th>\n",
       "      <th>Fare</th>\n",
       "      <th>Embarked</th>\n",
       "      <th>FamilySize</th>\n",
       "    </tr>\n",
       "  </thead>\n",
       "  <tbody>\n",
       "    <tr>\n",
       "      <th>0</th>\n",
       "      <td>0</td>\n",
       "      <td>3</td>\n",
       "      <td>0</td>\n",
       "      <td>22.0</td>\n",
       "      <td>7.2500</td>\n",
       "      <td>3</td>\n",
       "      <td>2</td>\n",
       "    </tr>\n",
       "    <tr>\n",
       "      <th>1</th>\n",
       "      <td>1</td>\n",
       "      <td>1</td>\n",
       "      <td>1</td>\n",
       "      <td>38.0</td>\n",
       "      <td>71.2833</td>\n",
       "      <td>1</td>\n",
       "      <td>2</td>\n",
       "    </tr>\n",
       "    <tr>\n",
       "      <th>2</th>\n",
       "      <td>1</td>\n",
       "      <td>3</td>\n",
       "      <td>1</td>\n",
       "      <td>26.0</td>\n",
       "      <td>7.9250</td>\n",
       "      <td>3</td>\n",
       "      <td>1</td>\n",
       "    </tr>\n",
       "    <tr>\n",
       "      <th>3</th>\n",
       "      <td>1</td>\n",
       "      <td>1</td>\n",
       "      <td>1</td>\n",
       "      <td>35.0</td>\n",
       "      <td>53.1000</td>\n",
       "      <td>3</td>\n",
       "      <td>2</td>\n",
       "    </tr>\n",
       "    <tr>\n",
       "      <th>4</th>\n",
       "      <td>0</td>\n",
       "      <td>3</td>\n",
       "      <td>0</td>\n",
       "      <td>35.0</td>\n",
       "      <td>8.0500</td>\n",
       "      <td>3</td>\n",
       "      <td>1</td>\n",
       "    </tr>\n",
       "  </tbody>\n",
       "</table>\n",
       "</div>"
      ],
      "text/plain": [
       "   Survived  TicketClass  Sex   Age     Fare  Embarked  FamilySize\n",
       "0         0            3    0  22.0   7.2500         3           2\n",
       "1         1            1    1  38.0  71.2833         1           2\n",
       "2         1            3    1  26.0   7.9250         3           1\n",
       "3         1            1    1  35.0  53.1000         3           2\n",
       "4         0            3    0  35.0   8.0500         3           1"
      ]
     },
     "execution_count": 11,
     "metadata": {},
     "output_type": "execute_result"
    }
   ],
   "source": [
    "# Converting categorical data to numeric data\n",
    "df['Sex'] = df['Sex'].map( {'male': 0, 'female': 1} ).astype(int)\n",
    "df['Embarked'] = df['Embarked'].map( {'C': 1, 'Q': 2, 'S': 3} ).astype(int)\n",
    "df.head(5)"
   ]
  },
  {
   "cell_type": "markdown",
   "id": "1c0a04a2",
   "metadata": {},
   "source": [
    "Now that all of the data is represented in a numerical form, we can begin to analyze the data to see how we should deal with outliers. It is also clear that only two of the remaining features have floating point values, which means that these two features can be dealt with in an intertesting way when it comes to dealing with outliers. The data can be analyzed in order to convert the \"Age\" and \"Fare\" features into discrete values based on brackets, which in turn will get rid of any potential outlier values. After calling 'describe' below it is evident that outliers exist for these features. However, if values were bracketed this would remove outliers and create a better form of data to train a model."
   ]
  },
  {
   "cell_type": "code",
   "execution_count": 12,
   "id": "fb7a5199",
   "metadata": {},
   "outputs": [
    {
     "data": {
      "text/html": [
       "<div>\n",
       "<style scoped>\n",
       "    .dataframe tbody tr th:only-of-type {\n",
       "        vertical-align: middle;\n",
       "    }\n",
       "\n",
       "    .dataframe tbody tr th {\n",
       "        vertical-align: top;\n",
       "    }\n",
       "\n",
       "    .dataframe thead th {\n",
       "        text-align: right;\n",
       "    }\n",
       "</style>\n",
       "<table border=\"1\" class=\"dataframe\">\n",
       "  <thead>\n",
       "    <tr style=\"text-align: right;\">\n",
       "      <th></th>\n",
       "      <th>Survived</th>\n",
       "      <th>TicketClass</th>\n",
       "      <th>Sex</th>\n",
       "      <th>Age</th>\n",
       "      <th>Fare</th>\n",
       "      <th>Embarked</th>\n",
       "      <th>FamilySize</th>\n",
       "    </tr>\n",
       "  </thead>\n",
       "  <tbody>\n",
       "    <tr>\n",
       "      <th>count</th>\n",
       "      <td>891.000000</td>\n",
       "      <td>891.000000</td>\n",
       "      <td>891.000000</td>\n",
       "      <td>714.000000</td>\n",
       "      <td>891.000000</td>\n",
       "      <td>891.000000</td>\n",
       "      <td>891.000000</td>\n",
       "    </tr>\n",
       "    <tr>\n",
       "      <th>mean</th>\n",
       "      <td>0.383838</td>\n",
       "      <td>2.308642</td>\n",
       "      <td>0.352413</td>\n",
       "      <td>29.699118</td>\n",
       "      <td>32.204208</td>\n",
       "      <td>2.536476</td>\n",
       "      <td>1.904602</td>\n",
       "    </tr>\n",
       "    <tr>\n",
       "      <th>std</th>\n",
       "      <td>0.486592</td>\n",
       "      <td>0.836071</td>\n",
       "      <td>0.477990</td>\n",
       "      <td>14.526497</td>\n",
       "      <td>49.693429</td>\n",
       "      <td>0.791503</td>\n",
       "      <td>1.613459</td>\n",
       "    </tr>\n",
       "    <tr>\n",
       "      <th>min</th>\n",
       "      <td>0.000000</td>\n",
       "      <td>1.000000</td>\n",
       "      <td>0.000000</td>\n",
       "      <td>0.420000</td>\n",
       "      <td>0.000000</td>\n",
       "      <td>1.000000</td>\n",
       "      <td>1.000000</td>\n",
       "    </tr>\n",
       "    <tr>\n",
       "      <th>25%</th>\n",
       "      <td>0.000000</td>\n",
       "      <td>2.000000</td>\n",
       "      <td>0.000000</td>\n",
       "      <td>20.125000</td>\n",
       "      <td>7.910400</td>\n",
       "      <td>2.000000</td>\n",
       "      <td>1.000000</td>\n",
       "    </tr>\n",
       "    <tr>\n",
       "      <th>50%</th>\n",
       "      <td>0.000000</td>\n",
       "      <td>3.000000</td>\n",
       "      <td>0.000000</td>\n",
       "      <td>28.000000</td>\n",
       "      <td>14.454200</td>\n",
       "      <td>3.000000</td>\n",
       "      <td>1.000000</td>\n",
       "    </tr>\n",
       "    <tr>\n",
       "      <th>75%</th>\n",
       "      <td>1.000000</td>\n",
       "      <td>3.000000</td>\n",
       "      <td>1.000000</td>\n",
       "      <td>38.000000</td>\n",
       "      <td>31.000000</td>\n",
       "      <td>3.000000</td>\n",
       "      <td>2.000000</td>\n",
       "    </tr>\n",
       "    <tr>\n",
       "      <th>max</th>\n",
       "      <td>1.000000</td>\n",
       "      <td>3.000000</td>\n",
       "      <td>1.000000</td>\n",
       "      <td>80.000000</td>\n",
       "      <td>512.329200</td>\n",
       "      <td>3.000000</td>\n",
       "      <td>11.000000</td>\n",
       "    </tr>\n",
       "  </tbody>\n",
       "</table>\n",
       "</div>"
      ],
      "text/plain": [
       "         Survived  TicketClass         Sex         Age        Fare  \\\n",
       "count  891.000000   891.000000  891.000000  714.000000  891.000000   \n",
       "mean     0.383838     2.308642    0.352413   29.699118   32.204208   \n",
       "std      0.486592     0.836071    0.477990   14.526497   49.693429   \n",
       "min      0.000000     1.000000    0.000000    0.420000    0.000000   \n",
       "25%      0.000000     2.000000    0.000000   20.125000    7.910400   \n",
       "50%      0.000000     3.000000    0.000000   28.000000   14.454200   \n",
       "75%      1.000000     3.000000    1.000000   38.000000   31.000000   \n",
       "max      1.000000     3.000000    1.000000   80.000000  512.329200   \n",
       "\n",
       "         Embarked  FamilySize  \n",
       "count  891.000000  891.000000  \n",
       "mean     2.536476    1.904602  \n",
       "std      0.791503    1.613459  \n",
       "min      1.000000    1.000000  \n",
       "25%      2.000000    1.000000  \n",
       "50%      3.000000    1.000000  \n",
       "75%      3.000000    2.000000  \n",
       "max      3.000000   11.000000  "
      ]
     },
     "execution_count": 12,
     "metadata": {},
     "output_type": "execute_result"
    }
   ],
   "source": [
    "# Describe the modifed dataframe\n",
    "df.describe()"
   ]
  },
  {
   "cell_type": "markdown",
   "id": "97c77a8e",
   "metadata": {},
   "source": [
    "However, before we do this it is definitely necessary to deal with the missing data points for the \"Age\" feature. It is likely that this feature has some form of correlation with the \"Ticket Class\" and \"Family Size\" features, so lets test to see if correlations exist."
   ]
  },
  {
   "cell_type": "code",
   "execution_count": 13,
   "id": "202be851",
   "metadata": {},
   "outputs": [
    {
     "data": {
      "image/png": "[encoded data removed]",
      "text/plain": [
       "<Figure size 640x480 with 1 Axes>"
      ]
     },
     "metadata": {},
     "output_type": "display_data"
    }
   ],
   "source": [
    "# Creating bar graph to analyze if there are significant differences in average age based on ticket class and sex\n",
    "temp_df = df.copy()\n",
    "temp_df['Sex'] = temp_df['Sex'].map( {0 : 'Male', 1 : 'Female'} ).astype(str)\n",
    "age_graph = sns.barplot(data = temp_df, x=\"TicketClass\", y=\"Age\", hue = \"Sex\", palette = \"Paired\")\n",
    "age_graph.set_title('Average Age of Passenger Based on Sex and Ticket Class')\n",
    "age_graph.set_ylabel('Average Age')\n",
    "age_graph.set_xlabel('Ticket Class')\n",
    "plt.legend(title = 'Sex')\n",
    "plt.show()"
   ]
  },
  {
   "cell_type": "markdown",
   "id": "d22ff3bf",
   "metadata": {},
   "source": [
    "As demonstrated above, there seems to be significant differences between the \"Age\" feature statistics based on the \"Ticket Class\" and \"Sex\" features, and therefore we can categorize entries with existing \"Age\" features based on these data points. Then in order to create an estimate age for each combination of \"Ticket Class\" and \"Sex\", use the mean value from each combination as the \"Age\" for entries with corresponding features. Then for simplicity convert all of the age values to integers."
   ]
  },
  {
   "cell_type": "code",
   "execution_count": 14,
   "id": "57c1ebce",
   "metadata": {},
   "outputs": [
    {
     "name": "stdout",
     "output_type": "stream",
     "text": [
      "Number of missing feature values:\n",
      "Survived       0\n",
      "TicketClass    0\n",
      "Sex            0\n",
      "Age            0\n",
      "Fare           0\n",
      "Embarked       0\n",
      "FamilySize     0\n",
      "dtype: int64\n"
     ]
    },
    {
     "data": {
      "text/html": [
       "<div>\n",
       "<style scoped>\n",
       "    .dataframe tbody tr th:only-of-type {\n",
       "        vertical-align: middle;\n",
       "    }\n",
       "\n",
       "    .dataframe tbody tr th {\n",
       "        vertical-align: top;\n",
       "    }\n",
       "\n",
       "    .dataframe thead th {\n",
       "        text-align: right;\n",
       "    }\n",
       "</style>\n",
       "<table border=\"1\" class=\"dataframe\">\n",
       "  <thead>\n",
       "    <tr style=\"text-align: right;\">\n",
       "      <th></th>\n",
       "      <th>Survived</th>\n",
       "      <th>TicketClass</th>\n",
       "      <th>Sex</th>\n",
       "      <th>Age</th>\n",
       "      <th>Fare</th>\n",
       "      <th>Embarked</th>\n",
       "      <th>FamilySize</th>\n",
       "    </tr>\n",
       "  </thead>\n",
       "  <tbody>\n",
       "    <tr>\n",
       "      <th>0</th>\n",
       "      <td>0</td>\n",
       "      <td>3</td>\n",
       "      <td>0</td>\n",
       "      <td>22</td>\n",
       "      <td>7.2500</td>\n",
       "      <td>3</td>\n",
       "      <td>2</td>\n",
       "    </tr>\n",
       "    <tr>\n",
       "      <th>1</th>\n",
       "      <td>1</td>\n",
       "      <td>1</td>\n",
       "      <td>1</td>\n",
       "      <td>38</td>\n",
       "      <td>71.2833</td>\n",
       "      <td>1</td>\n",
       "      <td>2</td>\n",
       "    </tr>\n",
       "    <tr>\n",
       "      <th>2</th>\n",
       "      <td>1</td>\n",
       "      <td>3</td>\n",
       "      <td>1</td>\n",
       "      <td>26</td>\n",
       "      <td>7.9250</td>\n",
       "      <td>3</td>\n",
       "      <td>1</td>\n",
       "    </tr>\n",
       "    <tr>\n",
       "      <th>3</th>\n",
       "      <td>1</td>\n",
       "      <td>1</td>\n",
       "      <td>1</td>\n",
       "      <td>35</td>\n",
       "      <td>53.1000</td>\n",
       "      <td>3</td>\n",
       "      <td>2</td>\n",
       "    </tr>\n",
       "    <tr>\n",
       "      <th>4</th>\n",
       "      <td>0</td>\n",
       "      <td>3</td>\n",
       "      <td>0</td>\n",
       "      <td>35</td>\n",
       "      <td>8.0500</td>\n",
       "      <td>3</td>\n",
       "      <td>1</td>\n",
       "    </tr>\n",
       "  </tbody>\n",
       "</table>\n",
       "</div>"
      ],
      "text/plain": [
       "   Survived  TicketClass  Sex  Age     Fare  Embarked  FamilySize\n",
       "0         0            3    0   22   7.2500         3           2\n",
       "1         1            1    1   38  71.2833         1           2\n",
       "2         1            3    1   26   7.9250         3           1\n",
       "3         1            1    1   35  53.1000         3           2\n",
       "4         0            3    0   35   8.0500         3           1"
      ]
     },
     "execution_count": 14,
     "metadata": {},
     "output_type": "execute_result"
    }
   ],
   "source": [
    "# Assign missing values with the mean age for each combination of 'Ticket Class' and 'Sex'\n",
    "df['Age'] = df['Age'].fillna(df.groupby([\"TicketClass\", \"Sex\"])[\"Age\"].transform(\"mean\"))\n",
    "\n",
    "# Converting ages to integer for simplicity\n",
    "df['Age'] = df['Age'].astype(int)\n",
    "print(\"Number of missing feature values:\")\n",
    "print(df.isnull().sum())\n",
    "df.head(5)"
   ]
  },
  {
   "cell_type": "markdown",
   "id": "14f51518",
   "metadata": {},
   "source": [
    "The final step in data cleaning that will be done is dealing with outliers. However, for this dataset I don't want to simply remove the outlier entries but instead group them into brackets. To determine how brackets should be divided the survival rates for different divisions will be graphed to determine which makes the most sense. First the age will be divided into equal groups using Pandas' 'cut' function, and visualize the survival rate for each bracket. If it seems like the rates are well divided, then the cutting parameters are reasonable and the \"Age\" feature will be changed to an index indicating the age range of the passenger."
   ]
  },
  {
   "cell_type": "code",
   "execution_count": 15,
   "id": "e3d27bf9",
   "metadata": {},
   "outputs": [
    {
     "data": {
      "text/plain": [
       "Text(0.5, 0, 'Age')"
      ]
     },
     "execution_count": 15,
     "metadata": {},
     "output_type": "execute_result"
    },
    {
     "data": {
      "image/png": "[encoded data removed]",
      "text/plain": [
       "<Figure size 1600x600 with 1 Axes>"
      ]
     },
     "metadata": {},
     "output_type": "display_data"
    }
   ],
   "source": [
    "# Divide ages into nine equal ranges\n",
    "df['AgeRange'] = pd.cut(df['Age'], 8)\n",
    "age_df = pd.DataFrame(df[['AgeRange', 'Survived']].groupby(['AgeRange'],\n",
    "                                                           as_index=False).mean().sort_values(by='AgeRange', ascending=True))\n",
    "\n",
    "plt.figure(figsize=(16, 6))\n",
    "age_range_graph = sns.barplot(data = age_df, x = \"AgeRange\", y = \"Survived\", palette = \"crest\")\n",
    "age_range_graph.set_title('Passenger Survival Rate for Age Range')\n",
    "age_range_graph.set_ylabel('Survival Rate')\n",
    "age_range_graph.set_xlabel('Age')"
   ]
  },
  {
   "cell_type": "code",
   "execution_count": 16,
   "id": "2c38126e",
   "metadata": {},
   "outputs": [
    {
     "data": {
      "text/html": [
       "<div>\n",
       "<style scoped>\n",
       "    .dataframe tbody tr th:only-of-type {\n",
       "        vertical-align: middle;\n",
       "    }\n",
       "\n",
       "    .dataframe tbody tr th {\n",
       "        vertical-align: top;\n",
       "    }\n",
       "\n",
       "    .dataframe thead th {\n",
       "        text-align: right;\n",
       "    }\n",
       "</style>\n",
       "<table border=\"1\" class=\"dataframe\">\n",
       "  <thead>\n",
       "    <tr style=\"text-align: right;\">\n",
       "      <th></th>\n",
       "      <th>Survived</th>\n",
       "      <th>TicketClass</th>\n",
       "      <th>Sex</th>\n",
       "      <th>Age</th>\n",
       "      <th>Fare</th>\n",
       "      <th>Embarked</th>\n",
       "      <th>FamilySize</th>\n",
       "    </tr>\n",
       "  </thead>\n",
       "  <tbody>\n",
       "    <tr>\n",
       "      <th>0</th>\n",
       "      <td>0</td>\n",
       "      <td>3</td>\n",
       "      <td>0</td>\n",
       "      <td>3</td>\n",
       "      <td>7.2500</td>\n",
       "      <td>3</td>\n",
       "      <td>2</td>\n",
       "    </tr>\n",
       "    <tr>\n",
       "      <th>1</th>\n",
       "      <td>1</td>\n",
       "      <td>1</td>\n",
       "      <td>1</td>\n",
       "      <td>4</td>\n",
       "      <td>71.2833</td>\n",
       "      <td>1</td>\n",
       "      <td>2</td>\n",
       "    </tr>\n",
       "    <tr>\n",
       "      <th>2</th>\n",
       "      <td>1</td>\n",
       "      <td>3</td>\n",
       "      <td>1</td>\n",
       "      <td>3</td>\n",
       "      <td>7.9250</td>\n",
       "      <td>3</td>\n",
       "      <td>1</td>\n",
       "    </tr>\n",
       "    <tr>\n",
       "      <th>3</th>\n",
       "      <td>1</td>\n",
       "      <td>1</td>\n",
       "      <td>1</td>\n",
       "      <td>4</td>\n",
       "      <td>53.1000</td>\n",
       "      <td>3</td>\n",
       "      <td>2</td>\n",
       "    </tr>\n",
       "    <tr>\n",
       "      <th>4</th>\n",
       "      <td>0</td>\n",
       "      <td>3</td>\n",
       "      <td>0</td>\n",
       "      <td>4</td>\n",
       "      <td>8.0500</td>\n",
       "      <td>3</td>\n",
       "      <td>1</td>\n",
       "    </tr>\n",
       "  </tbody>\n",
       "</table>\n",
       "</div>"
      ],
      "text/plain": [
       "   Survived  TicketClass  Sex  Age     Fare  Embarked  FamilySize\n",
       "0         0            3    0    3   7.2500         3           2\n",
       "1         1            1    1    4  71.2833         1           2\n",
       "2         1            3    1    3   7.9250         3           1\n",
       "3         1            1    1    4  53.1000         3           2\n",
       "4         0            3    0    4   8.0500         3           1"
      ]
     },
     "execution_count": 16,
     "metadata": {},
     "output_type": "execute_result"
    }
   ],
   "source": [
    "# Converting age to age range in the 'Age' feature\n",
    "df.loc[df['Age'] <= 10, 'Age'] = 1\n",
    "df.loc[(df['Age'] > 10) & (df['Age'] <= 20), 'Age'] = 2\n",
    "df.loc[(df['Age'] > 20) & (df['Age'] <= 30), 'Age'] = 3\n",
    "df.loc[(df['Age'] > 30) & (df['Age'] <= 40), 'Age'] = 4\n",
    "df.loc[(df['Age'] > 40) & (df['Age'] <= 50), 'Age'] = 5\n",
    "df.loc[(df['Age'] > 50) & (df['Age'] <= 60), 'Age'] = 6\n",
    "df.loc[(df['Age'] > 60) & (df['Age'] <= 70), 'Age'] = 7\n",
    "df.loc[df['Age'] > 70, 'Age'] = 8\n",
    "df['Age'] = df['Age'].astype(int)\n",
    "df = df.drop(['AgeRange'], axis=1)\n",
    "\n",
    "df.head(5)"
   ]
  },
  {
   "cell_type": "markdown",
   "id": "0b76c749",
   "metadata": {},
   "source": [
    "Now since we found a suitable way to divide the ages into different brackets, now the fares should be divided as well. While the ages are better distributed, the 'describe' function showed that the fares are likely very skewed. For this reason instead we will make usage of Pandas' 'qcut' function to divide into groups based on frequency in the ranges, not simply creating evenly spaced ranges."
   ]
  },
  {
   "cell_type": "code",
   "execution_count": 17,
   "id": "eaa2cba0",
   "metadata": {},
   "outputs": [
    {
     "data": {
      "text/plain": [
       "Text(0.5, 0, 'Fare')"
      ]
     },
     "execution_count": 17,
     "metadata": {},
     "output_type": "execute_result"
    },
    {
     "data": {
      "image/png": "[encoded data removed]",
      "text/plain": [
       "<Figure size 1600x600 with 1 Axes>"
      ]
     },
     "metadata": {},
     "output_type": "display_data"
    }
   ],
   "source": [
    "# Divide ages into five equal frequency ranges\n",
    "df['FareRange'] = pd.qcut(df['Fare'], 8)\n",
    "fare_df = pd.DataFrame(df[['FareRange', 'Survived']].groupby(['FareRange'],\n",
    "                                                           as_index=False).mean().sort_values(by='FareRange', ascending=True))\n",
    "\n",
    "plt.figure(figsize=(16, 6))\n",
    "fare_range_graph = sns.barplot(data = fare_df, x = \"FareRange\", y = \"Survived\", palette = \"crest\")\n",
    "fare_range_graph.set_title('Passenger Survival Rate for Fare Range')\n",
    "fare_range_graph.set_ylabel('Survival Rate')\n",
    "fare_range_graph.set_xlabel('Fare')"
   ]
  },
  {
   "cell_type": "code",
   "execution_count": 18,
   "id": "f3a73b25",
   "metadata": {},
   "outputs": [
    {
     "data": {
      "text/html": [
       "<div>\n",
       "<style scoped>\n",
       "    .dataframe tbody tr th:only-of-type {\n",
       "        vertical-align: middle;\n",
       "    }\n",
       "\n",
       "    .dataframe tbody tr th {\n",
       "        vertical-align: top;\n",
       "    }\n",
       "\n",
       "    .dataframe thead th {\n",
       "        text-align: right;\n",
       "    }\n",
       "</style>\n",
       "<table border=\"1\" class=\"dataframe\">\n",
       "  <thead>\n",
       "    <tr style=\"text-align: right;\">\n",
       "      <th></th>\n",
       "      <th>Survived</th>\n",
       "      <th>TicketClass</th>\n",
       "      <th>Sex</th>\n",
       "      <th>Age</th>\n",
       "      <th>Fare</th>\n",
       "      <th>Embarked</th>\n",
       "      <th>FamilySize</th>\n",
       "    </tr>\n",
       "  </thead>\n",
       "  <tbody>\n",
       "    <tr>\n",
       "      <th>0</th>\n",
       "      <td>0</td>\n",
       "      <td>3</td>\n",
       "      <td>0</td>\n",
       "      <td>3</td>\n",
       "      <td>1</td>\n",
       "      <td>3</td>\n",
       "      <td>2</td>\n",
       "    </tr>\n",
       "    <tr>\n",
       "      <th>1</th>\n",
       "      <td>1</td>\n",
       "      <td>1</td>\n",
       "      <td>1</td>\n",
       "      <td>4</td>\n",
       "      <td>8</td>\n",
       "      <td>1</td>\n",
       "      <td>2</td>\n",
       "    </tr>\n",
       "    <tr>\n",
       "      <th>2</th>\n",
       "      <td>1</td>\n",
       "      <td>3</td>\n",
       "      <td>1</td>\n",
       "      <td>3</td>\n",
       "      <td>3</td>\n",
       "      <td>3</td>\n",
       "      <td>1</td>\n",
       "    </tr>\n",
       "    <tr>\n",
       "      <th>3</th>\n",
       "      <td>1</td>\n",
       "      <td>1</td>\n",
       "      <td>1</td>\n",
       "      <td>4</td>\n",
       "      <td>7</td>\n",
       "      <td>3</td>\n",
       "      <td>2</td>\n",
       "    </tr>\n",
       "    <tr>\n",
       "      <th>4</th>\n",
       "      <td>0</td>\n",
       "      <td>3</td>\n",
       "      <td>0</td>\n",
       "      <td>4</td>\n",
       "      <td>3</td>\n",
       "      <td>3</td>\n",
       "      <td>1</td>\n",
       "    </tr>\n",
       "  </tbody>\n",
       "</table>\n",
       "</div>"
      ],
      "text/plain": [
       "   Survived  TicketClass  Sex  Age  Fare  Embarked  FamilySize\n",
       "0         0            3    0    3     1         3           2\n",
       "1         1            1    1    4     8         1           2\n",
       "2         1            3    1    3     3         3           1\n",
       "3         1            1    1    4     7         3           2\n",
       "4         0            3    0    4     3         3           1"
      ]
     },
     "execution_count": 18,
     "metadata": {},
     "output_type": "execute_result"
    }
   ],
   "source": [
    "# Converting fare to fare range in the 'Fare' feature\n",
    "df.loc[df['Fare'] <= 7.75, 'Fare'] = 1\n",
    "df.loc[(df['Fare'] > 7.75) & (df['Fare'] <= 7.91), 'Fare'] = 2\n",
    "df.loc[(df['Fare'] > 7.91) & (df['Fare'] <= 9.481), 'Fare'] = 3\n",
    "df.loc[(df['Fare'] > 9.841) & (df['Fare'] <= 14.454), 'Fare'] = 4\n",
    "df.loc[(df['Fare'] > 14.454) & (df['Fare'] <= 24.479), 'Fare'] = 5\n",
    "df.loc[(df['Fare'] > 24.479) & (df['Fare'] <= 31.0), 'Fare'] = 6\n",
    "df.loc[(df['Fare'] > 31.0) & (df['Fare'] <= 69.488), 'Fare'] = 7\n",
    "df.loc[df['Fare'] > 69.488, 'Fare'] = 8\n",
    "df['Fare'] = df['Fare'].astype(int)\n",
    "df = df.drop(['FareRange'], axis=1)\n",
    "\n",
    "df.head(5)"
   ]
  },
  {
   "cell_type": "markdown",
   "id": "439ccb85",
   "metadata": {},
   "source": [
    "After experimenting with the 'qcut' for the survival rate based on fair, it seems like almost every division resulted in three different general levels for the survival rate. This is interesting as the \"TicketClass\" feature is also divided into the three categories. For this reason, in order to get more specific idea of the wealth of the passengers the fares will be divided into more sections which hopefully will result in a better model.\n",
    "\n",
    "The data is now sufficiently cleaned and more relationships can be analyzed in order to determine what factors should be considered in any potential models. The relationships between age and survival rate and fare and survival rate have already been established, but now we will look into more features to find any other patterns that can be used to predict survival."
   ]
  },
  {
   "cell_type": "markdown",
   "id": "81c6a403",
   "metadata": {},
   "source": [
    "## Data Analysis\n",
    "\n",
    "Now that the data has been cleaned, the provided dataset can now be divided into the training and testing datasets. The training dataset will consist of 80% of the entries and the testing dataset will consist of the remaining 20%. In the future for cross-validation there will be other training and testing splits to test efficiency, but for data analysis this training-testing split will be used."
   ]
  },
  {
   "cell_type": "code",
   "execution_count": 19,
   "id": "a0f528ef",
   "metadata": {},
   "outputs": [],
   "source": [
    "# Splitting data into 80% training and 20% testing\n",
    "train_df = df.sample(frac = 0.8, random_state = 200)\n",
    "test_df = df.drop(train_df.index)"
   ]
  },
  {
   "cell_type": "markdown",
   "id": "36538fc4",
   "metadata": {},
   "source": [
    "To start to look for correlations at a glance a correlation heatmap can be used. This will not only give us some general insights about what features are correlated to survival rate but also what other features have correlations with each other. After this heatmap is created, interesting relationships can be explored further."
   ]
  },
  {
   "cell_type": "code",
   "execution_count": 20,
   "id": "fe6246bc",
   "metadata": {},
   "outputs": [
    {
     "data": {
      "text/plain": [
       "Text(0.5, 1.0, 'Correlation Heatmap')"
      ]
     },
     "execution_count": 20,
     "metadata": {},
     "output_type": "execute_result"
    },
    {
     "data": {
      "image/png": "[encoded data removed]",
      "text/plain": [
       "<Figure size 1600x600 with 2 Axes>"
      ]
     },
     "metadata": {},
     "output_type": "display_data"
    }
   ],
   "source": [
    "# Creating correlation heatmap on the training dataset\n",
    "plt.figure(figsize=(16, 6))\n",
    "correlation_graph = sns.heatmap(train_df.corr(), vmin=-1, vmax=1, annot=True, cmap='BrBG')\n",
    "correlation_graph.set_title('Correlation Heatmap', fontdict={'fontsize':18}, pad=12)"
   ]
  },
  {
   "cell_type": "markdown",
   "id": "9c80408f",
   "metadata": {},
   "source": [
    "### Feature Corretion\n",
    "\n",
    "Now that the relationships between variables are generally understood, we can further visualize to get a better understanding of the features and how they interact. This can also explain more when we visualize correlations between features and survival rate.\n",
    "\n",
    "It can be seen that there is a moderate negative correlation between the \"TicketClass\" feature and the \"Age\" as visualized below."
   ]
  },
  {
   "cell_type": "code",
   "execution_count": 21,
   "id": "2326a439",
   "metadata": {},
   "outputs": [
    {
     "data": {
      "text/plain": [
       "Text(0, 0.5, 'Ticket Class')"
      ]
     },
     "execution_count": 21,
     "metadata": {},
     "output_type": "execute_result"
    },
    {
     "data": {
      "image/png": "[encoded data removed]",
      "text/plain": [
       "<Figure size 1600x600 with 1 Axes>"
      ]
     },
     "metadata": {},
     "output_type": "display_data"
    }
   ],
   "source": [
    "# Create graph showing average ticket class based on age bracket\n",
    "plt.figure(figsize=(16, 6))\n",
    "tclass_age_graph = sns.barplot(data=train_df, x=\"Age\", y=\"TicketClass\", palette = \"flare\")\n",
    "tclass_age_graph.set_title('Age vs. Ticket Class')\n",
    "tclass_age_graph.set_xlabel('Age')\n",
    "tclass_age_graph.set_ylabel('Ticket Class')"
   ]
  },
  {
   "cell_type": "markdown",
   "id": "5cc9abf2",
   "metadata": {},
   "source": [
    "This trend can also be explained partially by the weak correlation between age and family size, as larger families are likely to contain children who are of a younger age. However, interestingly enough there is very little correlation between family size and ticket class.\n",
    "\n",
    "There also exists a weak positive correlation between sex and family size, which means that women tend to embark with more of their family. This makes sense given the gender trends of the time."
   ]
  },
  {
   "cell_type": "code",
   "execution_count": 22,
   "id": "b0b9503f",
   "metadata": {},
   "outputs": [
    {
     "data": {
      "text/plain": [
       "Text(0, 0.5, 'Family Size')"
      ]
     },
     "execution_count": 22,
     "metadata": {},
     "output_type": "execute_result"
    },
    {
     "data": {
      "image/png": "[encoded data removed]",
      "text/plain": [
       "<Figure size 1600x600 with 1 Axes>"
      ]
     },
     "metadata": {},
     "output_type": "display_data"
    }
   ],
   "source": [
    "# Create graph showing average family size based on sex\n",
    "plt.figure(figsize=(16, 6))\n",
    "family_sex_graph = sns.barplot(data=train_df, x=\"Sex\", y=\"FamilySize\")\n",
    "family_sex_graph.set_title('Sex vs. Family Size')\n",
    "family_sex_graph.set_xlabel('Sex')\n",
    "family_sex_graph.set_ylabel('Family Size')"
   ]
  },
  {
   "cell_type": "markdown",
   "id": "040bb387",
   "metadata": {},
   "source": [
    "There are a lot of strong correlations between fare and other features, however due to the existing relationship between family size and sex some of these correlations are redundant. Visualized below is the average fare bracket based on family size."
   ]
  },
  {
   "cell_type": "code",
   "execution_count": 23,
   "id": "0452e147",
   "metadata": {},
   "outputs": [
    {
     "data": {
      "text/plain": [
       "Text(0, 0.5, 'Fare')"
      ]
     },
     "execution_count": 23,
     "metadata": {},
     "output_type": "execute_result"
    },
    {
     "data": {
      "image/png": "[encoded data removed]",
      "text/plain": [
       "<Figure size 1600x600 with 1 Axes>"
      ]
     },
     "metadata": {},
     "output_type": "display_data"
    }
   ],
   "source": [
    "# Create graph showing average fare for each familiy size\n",
    "plt.figure(figsize=(16, 6))\n",
    "family_fare_graph = sns.barplot(data=train_df, x=\"FamilySize\", y=\"Fare\", palette = \"viridis\")\n",
    "family_fare_graph.set_title('Family Size vs. Fare')\n",
    "family_fare_graph.set_xlabel('Family Size')\n",
    "family_fare_graph.set_ylabel('Fare')"
   ]
  },
  {
   "cell_type": "markdown",
   "id": "2097e93c",
   "metadata": {},
   "source": [
    "There also exists a correlation between fare and ticket class, which is not something that needs to be explored. There also exists a relationship between fare and age which can also be explained by the relationship between age and ticket class.\n",
    "\n",
    "### Survival Correlation\n",
    "\n",
    "Now that we understand how other features interact, now we will move on to the correlations between features and survival rate. These are the features that will actually contribute to the model and should definitely be explored. The first correlation is between ticket class and surivival rate which also explains the relationship between fare and survival rate. It would be expected that richer people would be more likely to survive, and it definitely helps that richer passengers tend to be in larger families which have more women and children. Visualized below is the graph showing survival rate based on the ticket class."
   ]
  },
  {
   "cell_type": "code",
   "execution_count": 24,
   "id": "469e4014",
   "metadata": {},
   "outputs": [
    {
     "data": {
      "text/plain": [
       "Text(0, 0.5, 'Survival Rate')"
      ]
     },
     "execution_count": 24,
     "metadata": {},
     "output_type": "execute_result"
    },
    {
     "data": {
      "image/png": "[encoded data removed]",
      "text/plain": [
       "<Figure size 1600x600 with 1 Axes>"
      ]
     },
     "metadata": {},
     "output_type": "display_data"
    }
   ],
   "source": [
    "# Create graph showing survival rate based on ticket class\n",
    "plt.figure(figsize=(16, 6))\n",
    "tclass_survive_graph = sns.barplot(data=train_df, x=\"TicketClass\", y=\"Survived\")\n",
    "tclass_survive_graph.set_title('Survival Rate Based on Ticket Class')\n",
    "tclass_survive_graph.set_xlabel('Ticket Class')\n",
    "tclass_survive_graph.set_ylabel('Survival Rate')"
   ]
  },
  {
   "cell_type": "markdown",
   "id": "20bd0a84",
   "metadata": {},
   "source": [
    "Another moderate correlation exists between sex and survival rate, which makes sense considering the notion of having the women and children get on the life boats first. This also likely has a relationship with ticket class and should also be taken into account. The survival rates are shown below."
   ]
  },
  {
   "cell_type": "code",
   "execution_count": 25,
   "id": "837b9e3b",
   "metadata": {},
   "outputs": [
    {
     "data": {
      "text/plain": [
       "Text(0, 0.5, 'Survival Rate')"
      ]
     },
     "execution_count": 25,
     "metadata": {},
     "output_type": "execute_result"
    },
    {
     "data": {
      "image/png": "[encoded data removed]",
      "text/plain": [
       "<Figure size 1600x600 with 1 Axes>"
      ]
     },
     "metadata": {},
     "output_type": "display_data"
    }
   ],
   "source": [
    "# Create graph showing survival rate based on gender and ticket class\n",
    "plt.figure(figsize=(16, 6))\n",
    "tclass_sex_survive_graph = sns.barplot(data=train_df, x=\"Sex\", y=\"Survived\", hue = \"TicketClass\", palette = \"flare\")\n",
    "tclass_sex_survive_graph.set_title('Survival Rate Based on Ticket Class and Sex')\n",
    "tclass_sex_survive_graph.set_xlabel('Sex')\n",
    "tclass_sex_survive_graph.set_ylabel('Survival Rate')"
   ]
  },
  {
   "cell_type": "markdown",
   "id": "7fa8484a",
   "metadata": {},
   "source": [
    "The last significant relationship can be seen between survival rate and embarkation, and since the numerical values used to indicate the port the number is not really useful without a visualization, so the survival rates for each port are shown below."
   ]
  },
  {
   "cell_type": "code",
   "execution_count": 26,
   "id": "41f332cc",
   "metadata": {},
   "outputs": [
    {
     "data": {
      "text/plain": [
       "Text(0, 0.5, 'Survival Rate')"
      ]
     },
     "execution_count": 26,
     "metadata": {},
     "output_type": "execute_result"
    },
    {
     "data": {
      "image/png": "[encoded data removed]",
      "text/plain": [
       "<Figure size 1600x600 with 1 Axes>"
      ]
     },
     "metadata": {},
     "output_type": "display_data"
    }
   ],
   "source": [
    "# Create graph showing survival rate based on ticket class\n",
    "temp = train_df.copy()\n",
    "temp['Embarked'] = temp['Embarked'].map( {1 : 'Cherbourg', 2 : 'Queenstown', 3 : 'Southampton'} )\n",
    "\n",
    "plt.figure(figsize=(16, 6))\n",
    "embark_survive_graph = sns.barplot(data=temp, x=\"Embarked\", y=\"Survived\", palette = \"viridis\")\n",
    "embark_survive_graph.set_title('Survival Rate Based on Port of Embarkation')\n",
    "embark_survive_graph.set_xlabel('Port of Embarkation')\n",
    "embark_survive_graph.set_ylabel('Survival Rate')"
   ]
  },
  {
   "cell_type": "markdown",
   "id": "f82e7fe1",
   "metadata": {},
   "source": [
    "## Modeling\n",
    "\n",
    "Now that we have analyzed what factors into the chances of a passenger surviving, we can observe how different machine learning algorithms use the given features to predict whether a passenger will survive. For each model three 80/20 and three 60/40 training-testing splits will be used in order to analyze the effect of cross validation on model results. Also, for each model the performance will be test with accuracy, precision, recall, and F-score.\n",
    "\n",
    "First create the splits for all of the 80/20 and 60/40 models."
   ]
  },
  {
   "cell_type": "code",
   "execution_count": 27,
   "id": "4e54bde3",
   "metadata": {},
   "outputs": [],
   "source": [
    "# Separate features from target\n",
    "features = ['TicketClass', 'Sex', 'Age', 'Fare', 'Embarked', 'FamilySize']\n",
    "target = 'Survived'\n",
    "\n",
    "# Creating 80/20 training-testing splits\n",
    "X_train0, X_val0, y_train0, y_val0 = train_test_split(df[features], df[target], test_size=0.2, random_state=26)\n",
    "X_train1, X_val1, y_train1, y_val1 = train_test_split(df[features], df[target], test_size=0.2, random_state=17)\n",
    "X_train2, X_val2, y_train2, y_val2 = train_test_split(df[features], df[target], test_size=0.2, random_state=42)\n",
    "\n",
    "X_train3, X_val3, y_train3, y_val3 = train_test_split(df[features], df[target], test_size=0.4, random_state=87)\n",
    "X_train4, X_val4, y_train4, y_val4 = train_test_split(df[features], df[target], test_size=0.4, random_state=56)\n",
    "X_train5, X_val5, y_train5, y_val5 = train_test_split(df[features], df[target], test_size=0.4, random_state=9)"
   ]
  },
  {
   "cell_type": "markdown",
   "id": "f1011746",
   "metadata": {},
   "source": [
    "### K-Nearest Neighbors\n",
    "\n",
    "The K-Nearest Neighbors algorithm is a supervised machine learning algorithm that attempts to predict the correct label, in this case either surviving or not surviving, by calculating the distance between each testing point and all of the training data points. The algorithm then finds the 'K' nearest neighbors to the point in question and calculates the probability that it is a part of one of the labeled classes, with the class with the highest probability being chosen as the correct label.\n",
    "\n",
    "Now six models will be created and analyed to determine the effiency of this model."
   ]
  },
  {
   "cell_type": "code",
   "execution_count": 28,
   "id": "cdfa3661",
   "metadata": {},
   "outputs": [],
   "source": [
    "# Initializing lists to store metrics\n",
    "kn_acc = []\n",
    "kn_prec = []\n",
    "kn_rec = []\n",
    "kn_f = []\n",
    "\n",
    "# Creating model 0 using k-nearest neighbors\n",
    "kn0 = KNeighborsClassifier()\n",
    "kn0.fit(X_train0, y_train0)\n",
    "y_pred0 = kn0.predict(X_val0)\n",
    "kn_acc.append(metric.accuracy_score(y_val0, y_pred0))\n",
    "kn_prec.append(metric.precision_score(y_val0, y_pred0))\n",
    "kn_rec.append(metric.recall_score(y_val0, y_pred0))\n",
    "kn_f.append(metric.f1_score(y_val0, y_pred0))"
   ]
  },
  {
   "cell_type": "code",
   "execution_count": 29,
   "id": "0127349e",
   "metadata": {},
   "outputs": [],
   "source": [
    "# Creating model 1 using k-nearest neighbors\n",
    "kn1 = KNeighborsClassifier()\n",
    "kn1.fit(X_train1, y_train1)\n",
    "y_pred1 = kn1.predict(X_val1)\n",
    "kn_acc.append(metric.accuracy_score(y_val1, y_pred1))\n",
    "kn_prec.append(metric.precision_score(y_val1, y_pred1))\n",
    "kn_rec.append(metric.recall_score(y_val1, y_pred1))\n",
    "kn_f.append(metric.f1_score(y_val1, y_pred1))"
   ]
  },
  {
   "cell_type": "code",
   "execution_count": 30,
   "id": "afaa0046",
   "metadata": {},
   "outputs": [],
   "source": [
    "# Creating model 2 using k-nearest neighbors\n",
    "kn2 = KNeighborsClassifier()\n",
    "kn2.fit(X_train2, y_train2)\n",
    "y_pred2 = kn2.predict(X_val2)\n",
    "kn_acc.append(metric.accuracy_score(y_val2, y_pred2))\n",
    "kn_prec.append(metric.precision_score(y_val2, y_pred2))\n",
    "kn_rec.append(metric.recall_score(y_val2, y_pred2))\n",
    "kn_f.append(metric.f1_score(y_val2, y_pred2))"
   ]
  },
  {
   "cell_type": "code",
   "execution_count": 31,
   "id": "63afe7aa",
   "metadata": {},
   "outputs": [],
   "source": [
    "# Creating model 3 using k-nearest neighbors\n",
    "kn3 = KNeighborsClassifier()\n",
    "kn3.fit(X_train3, y_train3)\n",
    "y_pred3 = kn3.predict(X_val3)\n",
    "kn_acc.append(metric.accuracy_score(y_val3, y_pred3))\n",
    "kn_prec.append(metric.precision_score(y_val3, y_pred3))\n",
    "kn_rec.append(metric.recall_score(y_val3, y_pred3))\n",
    "kn_f.append(metric.f1_score(y_val3, y_pred3))"
   ]
  },
  {
   "cell_type": "code",
   "execution_count": 32,
   "id": "1dea5d5f",
   "metadata": {},
   "outputs": [],
   "source": [
    "# Creating model 4 using k-nearest neighbors\n",
    "kn4 = KNeighborsClassifier()\n",
    "kn4.fit(X_train4, y_train4)\n",
    "y_pred4 = kn4.predict(X_val4)\n",
    "kn_acc.append(metric.accuracy_score(y_val4, y_pred4))\n",
    "kn_prec.append(metric.precision_score(y_val4, y_pred4))\n",
    "kn_rec.append(metric.recall_score(y_val4, y_pred4))\n",
    "kn_f.append(metric.f1_score(y_val4, y_pred4))"
   ]
  },
  {
   "cell_type": "code",
   "execution_count": 33,
   "id": "e5cceff3",
   "metadata": {},
   "outputs": [],
   "source": [
    "# Creating model 5 using k-nearest neighbors\n",
    "kn5 = KNeighborsClassifier()\n",
    "kn5.fit(X_train5, y_train5)\n",
    "y_pred5 = kn5.predict(X_val5)\n",
    "kn_acc.append(metric.accuracy_score(y_val5, y_pred5))\n",
    "kn_prec.append(metric.precision_score(y_val5, y_pred5))\n",
    "kn_rec.append(metric.recall_score(y_val5, y_pred5))\n",
    "kn_f.append(metric.f1_score(y_val5, y_pred5))"
   ]
  },
  {
   "cell_type": "markdown",
   "id": "fbada385",
   "metadata": {},
   "source": [
    "Now that the models have been created and the performance metrics have been recorded, lets see how the models performed."
   ]
  },
  {
   "cell_type": "code",
   "execution_count": 34,
   "id": "89c01183",
   "metadata": {},
   "outputs": [
    {
     "name": "stdout",
     "output_type": "stream",
     "text": [
      "All K-Nearest Neighbors Model Performances\n",
      "   Split  Accuracy  Precision    Recall   F-score\n",
      "0  80/20  0.793296   0.685714  0.761905  0.721805\n",
      "1  80/20  0.759777   0.708333  0.698630  0.703448\n",
      "2  80/20  0.821229   0.808824  0.743243  0.774648\n",
      "3  60/40  0.801120   0.780303  0.710345  0.743682\n",
      "4  60/40  0.803922   0.725191  0.736434  0.730769\n",
      "5  60/40  0.764706   0.763158  0.604167  0.674419\n",
      "__________________________________________________\n",
      "Model Performance by Split\n",
      "       Accuracy  Precision    Recall  F-score\n",
      "Split                                        \n",
      "60/40  0.789916   0.756217  0.683649  0.71629\n",
      "80/20  0.791434   0.734290  0.734593  0.73330\n",
      "__________________________________________________\n",
      "Average Performance\n",
      "Accuracy     0.790675\n",
      "Precision    0.745254\n",
      "Recall       0.709121\n",
      "F-score      0.724795\n",
      "dtype: float64\n"
     ]
    }
   ],
   "source": [
    "# Creating dataframes to store performance metrics\n",
    "kn_df = pd.DataFrame({'Split': ['80/20', '80/20', '80/20', '60/40', '60/40', '60/40']})\n",
    "kn_df['Accuracy'] = kn_acc\n",
    "kn_df['Precision'] = kn_prec\n",
    "kn_df['Recall'] = kn_rec\n",
    "kn_df['F-score'] = kn_f\n",
    "\n",
    "print(\"All K-Nearest Neighbors Model Performances\")\n",
    "print(kn_df)\n",
    "print(\"_\"*50)\n",
    "\n",
    "print(\"Model Performance by Split\")\n",
    "kn_df_split_mean = kn_df.groupby('Split').mean()\n",
    "print(kn_df_split_mean)\n",
    "print(\"_\"*50)\n",
    "\n",
    "print(\"Average Performance\")\n",
    "kn_df_mean = kn_df.mean(numeric_only = True)\n",
    "print(kn_df_mean)"
   ]
  },
  {
   "cell_type": "markdown",
   "id": "94f05ce3",
   "metadata": {},
   "source": [
    "As seen above it seems like the 80/20 split performed better overall only being beat out in the precision metric, but we can see a decent amount of variation in the metrics for each model in the cross validation revealing some training sets are better than others. Overall, the performance was pretty strong with accuracy having an impressive score with precision not far behind. The recall and F-score performance methods did not perform as well but both remain above 0.70."
   ]
  },
  {
   "cell_type": "markdown",
   "id": "d85522bf",
   "metadata": {},
   "source": [
    "### Stochastic Gradient Descent\n",
    "\n",
    "This is a linear regression algorithm which has the goal of minimizing the sum of squared residuals by finding the gradient of the function. The stochastic part of this algorithm is in determining the initial value of parameters, updating the gradient function using these random parameters. Then the step sizes are calculated based on the gradient and learning rate in order to determine a new set of parameters for the next step. This keeps repeating until a sufficient gradient is found, or optimally where the global minimum is at a gradient of zero. This is essentially what creates the decision boundary and allows us to classify the passenger as a survivor or not.\n",
    "\n",
    "Now six models will be created and analyed to determine the effiency of this model."
   ]
  },
  {
   "cell_type": "code",
   "execution_count": 35,
   "id": "6dd313a9",
   "metadata": {},
   "outputs": [],
   "source": [
    "# Initializing lists to store metrics\n",
    "sgd_acc = []\n",
    "sgd_prec = []\n",
    "sgd_rec = []\n",
    "sgd_f = []\n",
    "\n",
    "# Creating model 0 using stochastic gradient descent\n",
    "sgd0 = SGDClassifier()\n",
    "sgd0.fit(X_train0, y_train0)\n",
    "y_pred0 = sgd0.predict(X_val0)\n",
    "sgd_acc.append(metric.accuracy_score(y_val0, y_pred0))\n",
    "sgd_prec.append(metric.precision_score(y_val0, y_pred0))\n",
    "sgd_rec.append(metric.recall_score(y_val0, y_pred0))\n",
    "sgd_f.append(metric.f1_score(y_val0, y_pred0))"
   ]
  },
  {
   "cell_type": "code",
   "execution_count": 36,
   "id": "b0ca3a0d",
   "metadata": {},
   "outputs": [],
   "source": [
    "# Creating model 1 using stochastic gradient descent\n",
    "sgd1 = SGDClassifier()\n",
    "sgd1.fit(X_train1, y_train1)\n",
    "y_pred1 = sgd1.predict(X_val1)\n",
    "sgd_acc.append(metric.accuracy_score(y_val1, y_pred1))\n",
    "sgd_prec.append(metric.precision_score(y_val1, y_pred1))\n",
    "sgd_rec.append(metric.recall_score(y_val1, y_pred1))\n",
    "sgd_f.append(metric.f1_score(y_val1, y_pred1))"
   ]
  },
  {
   "cell_type": "code",
   "execution_count": 37,
   "id": "d2d6ba50",
   "metadata": {},
   "outputs": [],
   "source": [
    "# Creating model 2 using stochastic gradient descent\n",
    "sgd2 = SGDClassifier()\n",
    "sgd2.fit(X_train2, y_train2)\n",
    "y_pred2 = sgd2.predict(X_val2)\n",
    "sgd_acc.append(metric.accuracy_score(y_val2, y_pred2))\n",
    "sgd_prec.append(metric.precision_score(y_val2, y_pred2))\n",
    "sgd_rec.append(metric.recall_score(y_val2, y_pred2))\n",
    "sgd_f.append(metric.f1_score(y_val2, y_pred2))"
   ]
  },
  {
   "cell_type": "code",
   "execution_count": 38,
   "id": "de9708b9",
   "metadata": {},
   "outputs": [],
   "source": [
    "# Creating model 3 using stochastic gradient descent\n",
    "sgd3 = SGDClassifier()\n",
    "sgd3.fit(X_train3, y_train3)\n",
    "y_pred3 = sgd3.predict(X_val3)\n",
    "sgd_acc.append(metric.accuracy_score(y_val3, y_pred3))\n",
    "sgd_prec.append(metric.precision_score(y_val3, y_pred3))\n",
    "sgd_rec.append(metric.recall_score(y_val3, y_pred3))\n",
    "sgd_f.append(metric.f1_score(y_val3, y_pred3))"
   ]
  },
  {
   "cell_type": "code",
   "execution_count": 39,
   "id": "387964d0",
   "metadata": {},
   "outputs": [],
   "source": [
    "# Creating model 4 using stochastic gradient descent\n",
    "sgd4 = SGDClassifier()\n",
    "sgd4.fit(X_train4, y_train4)\n",
    "y_pred4 = sgd4.predict(X_val4)\n",
    "sgd_acc.append(metric.accuracy_score(y_val4, y_pred4))\n",
    "sgd_prec.append(metric.precision_score(y_val4, y_pred4))\n",
    "sgd_rec.append(metric.recall_score(y_val4, y_pred4))\n",
    "sgd_f.append(metric.f1_score(y_val4, y_pred4))"
   ]
  },
  {
   "cell_type": "code",
   "execution_count": 40,
   "id": "dd8175db",
   "metadata": {},
   "outputs": [],
   "source": [
    "# Creating model 5 using stochastic gradient descent\n",
    "sgd5 = SGDClassifier()\n",
    "sgd5.fit(X_train5, y_train5)\n",
    "y_pred5 = sgd5.predict(X_val5)\n",
    "sgd_acc.append(metric.accuracy_score(y_val5, y_pred5))\n",
    "sgd_prec.append(metric.precision_score(y_val5, y_pred5))\n",
    "sgd_rec.append(metric.recall_score(y_val5, y_pred5))\n",
    "sgd_f.append(metric.f1_score(y_val5, y_pred5))"
   ]
  },
  {
   "cell_type": "markdown",
   "id": "bd03ab6b",
   "metadata": {},
   "source": [
    "Now that the models have been created and the performance metrics have been recorded, lets see how the models performed."
   ]
  },
  {
   "cell_type": "code",
   "execution_count": 41,
   "id": "f925058e",
   "metadata": {},
   "outputs": [
    {
     "name": "stdout",
     "output_type": "stream",
     "text": [
      "All K-Nearest Neighbors Model Performances\n",
      "   Split  Accuracy  Precision    Recall   F-score\n",
      "0  80/20  0.793296   0.709677  0.698413  0.704000\n",
      "1  80/20  0.754190   0.723077  0.643836  0.681159\n",
      "2  80/20  0.782123   0.818182  0.608108  0.697674\n",
      "3  60/40  0.694678   0.577586  0.924138  0.710875\n",
      "4  60/40  0.795518   0.764151  0.627907  0.689362\n",
      "5  60/40  0.775910   0.833333  0.555556  0.666667\n",
      "__________________________________________________\n",
      "Model Performance by Split\n",
      "       Accuracy  Precision    Recall   F-score\n",
      "Split                                         \n",
      "60/40  0.755369   0.725023  0.702533  0.688968\n",
      "80/20  0.776536   0.750312  0.650119  0.694278\n",
      "__________________________________________________\n",
      "Average Performance\n",
      "Accuracy     0.765953\n",
      "Precision    0.737668\n",
      "Recall       0.676326\n",
      "F-score      0.691623\n",
      "dtype: float64\n"
     ]
    }
   ],
   "source": [
    "# Creating dataframes to store performance metrics\n",
    "sgd_df = pd.DataFrame({'Split': ['80/20', '80/20', '80/20', '60/40', '60/40', '60/40']})\n",
    "sgd_df['Accuracy'] = sgd_acc\n",
    "sgd_df['Precision'] = sgd_prec\n",
    "sgd_df['Recall'] = sgd_rec\n",
    "sgd_df['F-score'] = sgd_f\n",
    "\n",
    "print(\"All K-Nearest Neighbors Model Performances\")\n",
    "print(sgd_df)\n",
    "print(\"_\"*50)\n",
    "\n",
    "print(\"Model Performance by Split\")\n",
    "sgd_df_split_mean = sgd_df.groupby('Split').mean()\n",
    "print(sgd_df_split_mean)\n",
    "print(\"_\"*50)\n",
    "\n",
    "print(\"Average Performance\")\n",
    "sgd_df_mean = sgd_df.mean(numeric_only = True)\n",
    "print(sgd_df_mean)"
   ]
  },
  {
   "cell_type": "markdown",
   "id": "af81fd77",
   "metadata": {},
   "source": [
    "Overall compared to the K-Nearest Neighbors algorithm this model did not perform as well, failing to get above 0.70 in the overall precision metric and barely squeaking by for F-score. It is also clear that the 80/20 split is much more favorable for this model as the differences in performance metrics are significant. Once again cross validation proved to show that certain sets of the training data are definitely more suitable than others, with precision metrics ranging from around 0.57 to 0.84."
   ]
  },
  {
   "cell_type": "markdown",
   "id": "c3a570cd",
   "metadata": {},
   "source": [
    "### Random Forest\n",
    "\n",
    "The random forest algorithm makes use of decision trees in order to classify a point. The algorithm randomly takes a subsets of data points and features to create a \"forest\" of decision trees. Each decision tree will generate a classifying output based on what data is put into it and therefore this creates a large amount of different classifications from the many random decision trees. The final classification is determined by majority voting of the random decision trees in the \"forest\".\n",
    "\n",
    "Now six models will be created and analyed to determine the effiency of this model."
   ]
  },
  {
   "cell_type": "code",
   "execution_count": 42,
   "id": "54b3d521",
   "metadata": {},
   "outputs": [],
   "source": [
    "# Initializing lists to store metrics\n",
    "forest_acc = []\n",
    "forest_prec = []\n",
    "forest_rec = []\n",
    "forest_f = []\n",
    "\n",
    "# Creating model 0 using random forest\n",
    "forest0 = RandomForestClassifier(random_state=26)\n",
    "forest0.fit(X_train0, y_train0)\n",
    "y_pred0 = forest0.predict(X_val0)\n",
    "forest_acc.append(metric.accuracy_score(y_val0, y_pred0))\n",
    "forest_prec.append(metric.precision_score(y_val0, y_pred0))\n",
    "forest_rec.append(metric.recall_score(y_val0, y_pred0))\n",
    "forest_f.append(metric.f1_score(y_val0, y_pred0))"
   ]
  },
  {
   "cell_type": "code",
   "execution_count": 43,
   "id": "741858e6",
   "metadata": {},
   "outputs": [],
   "source": [
    "# Creating model 1 using random forest\n",
    "forest1 = RandomForestClassifier(random_state=17)\n",
    "forest1.fit(X_train1, y_train1)\n",
    "y_pred1 = forest1.predict(X_val1)\n",
    "forest_acc.append(metric.accuracy_score(y_val1, y_pred1))\n",
    "forest_prec.append(metric.precision_score(y_val1, y_pred1))\n",
    "forest_rec.append(metric.recall_score(y_val1, y_pred1))\n",
    "forest_f.append(metric.f1_score(y_val1, y_pred1))"
   ]
  },
  {
   "cell_type": "code",
   "execution_count": 44,
   "id": "473c4708",
   "metadata": {},
   "outputs": [],
   "source": [
    "# Creating model 2 using random forest\n",
    "forest2 = RandomForestClassifier(random_state=42)\n",
    "forest2.fit(X_train2, y_train2)\n",
    "y_pred2 = forest2.predict(X_val2)\n",
    "forest_acc.append(metric.accuracy_score(y_val2, y_pred2))\n",
    "forest_prec.append(metric.precision_score(y_val2, y_pred2))\n",
    "forest_rec.append(metric.recall_score(y_val2, y_pred2))\n",
    "forest_f.append(metric.f1_score(y_val2, y_pred2))"
   ]
  },
  {
   "cell_type": "code",
   "execution_count": 45,
   "id": "a46499e0",
   "metadata": {},
   "outputs": [],
   "source": [
    "# Creating model 3 using random forest\n",
    "forest3 = RandomForestClassifier(random_state=87)\n",
    "forest3.fit(X_train3, y_train3)\n",
    "y_pred3 = forest3.predict(X_val3)\n",
    "forest_acc.append(metric.accuracy_score(y_val3, y_pred3))\n",
    "forest_prec.append(metric.precision_score(y_val3, y_pred3))\n",
    "forest_rec.append(metric.recall_score(y_val3, y_pred3))\n",
    "forest_f.append(metric.f1_score(y_val3, y_pred3))"
   ]
  },
  {
   "cell_type": "code",
   "execution_count": 46,
   "id": "61037931",
   "metadata": {},
   "outputs": [],
   "source": [
    "# Creating model 4 using random forest\n",
    "forest4 = RandomForestClassifier(random_state=56)\n",
    "forest4.fit(X_train4, y_train4)\n",
    "y_pred4 = forest4.predict(X_val4)\n",
    "forest_acc.append(metric.accuracy_score(y_val4, y_pred4))\n",
    "forest_prec.append(metric.precision_score(y_val4, y_pred4))\n",
    "forest_rec.append(metric.recall_score(y_val4, y_pred4))\n",
    "forest_f.append(metric.f1_score(y_val4, y_pred4))"
   ]
  },
  {
   "cell_type": "code",
   "execution_count": 47,
   "id": "b0333e1c",
   "metadata": {},
   "outputs": [],
   "source": [
    "# Creating model 5 using random forest\n",
    "forest5 = RandomForestClassifier(random_state=26)\n",
    "forest5.fit(X_train5, y_train5)\n",
    "y_pred5 = forest5.predict(X_val5)\n",
    "forest_acc.append(metric.accuracy_score(y_val5, y_pred5))\n",
    "forest_prec.append(metric.precision_score(y_val5, y_pred5))\n",
    "forest_rec.append(metric.recall_score(y_val5, y_pred5))\n",
    "forest_f.append(metric.f1_score(y_val5, y_pred5))"
   ]
  },
  {
   "cell_type": "markdown",
   "id": "f4caa161",
   "metadata": {},
   "source": [
    "Now that the models have been created and the performance metrics have been recorded, lets see how the models performed."
   ]
  },
  {
   "cell_type": "code",
   "execution_count": 48,
   "id": "3f2bd653",
   "metadata": {},
   "outputs": [
    {
     "name": "stdout",
     "output_type": "stream",
     "text": [
      "All Forest Model Performances\n",
      "   Split  Accuracy  Precision    Recall   F-score\n",
      "0  80/20  0.821229   0.746032  0.746032  0.746032\n",
      "1  80/20  0.765363   0.724638  0.684932  0.704225\n",
      "2  80/20  0.821229   0.791667  0.770270  0.780822\n",
      "3  60/40  0.801120   0.784615  0.703448  0.741818\n",
      "4  60/40  0.806723   0.730769  0.736434  0.733591\n",
      "5  60/40  0.806723   0.837838  0.645833  0.729412\n",
      "__________________________________________________\n",
      "Model Performance by Split\n",
      "       Accuracy  Precision    Recall   F-score\n",
      "Split                                         \n",
      "60/40  0.804855   0.784407  0.695239  0.734940\n",
      "80/20  0.802607   0.754112  0.733745  0.743693\n",
      "__________________________________________________\n",
      "Average Performance\n",
      "Accuracy     0.803731\n",
      "Precision    0.769260\n",
      "Recall       0.714492\n",
      "F-score      0.739317\n",
      "dtype: float64\n"
     ]
    }
   ],
   "source": [
    "# Creating dataframes to store performance metrics\n",
    "forest_df = pd.DataFrame({'Split': ['80/20', '80/20', '80/20', '60/40', '60/40', '60/40']})\n",
    "forest_df['Accuracy'] = forest_acc\n",
    "forest_df['Precision'] = forest_prec\n",
    "forest_df['Recall'] = forest_rec\n",
    "forest_df['F-score'] = forest_f\n",
    "\n",
    "print(\"All Forest Model Performances\")\n",
    "print(forest_df)\n",
    "print(\"_\"*50)\n",
    "\n",
    "print(\"Model Performance by Split\")\n",
    "forest_df_split_mean = forest_df.groupby('Split').mean()\n",
    "print(forest_df_split_mean)\n",
    "print(\"_\"*50)\n",
    "\n",
    "print(\"Average Performance\")\n",
    "forest_df_mean = forest_df.mean(numeric_only = True)\n",
    "print(forest_df_mean)"
   ]
  },
  {
   "cell_type": "markdown",
   "id": "c4159ce1",
   "metadata": {},
   "source": [
    "The random forest method seems to have better metrics overall than the previous two models, showing better accuracy, precision, and F-score than them on average. Interestingly the splits of training and testing data did not have too significant of an effect on performance, with only precision and recall varying significantly. It also seems like the metrics for each individual model did not vary as much as it did for the other algorithms."
   ]
  },
  {
   "cell_type": "markdown",
   "id": "91c8d15a",
   "metadata": {},
   "source": [
    "### Overall Performance Metrics\n",
    "\n",
    "Now that we have data for all three different algorithms, we can tabulate and graph the overall statistics to get a better visualization on their performance."
   ]
  },
  {
   "cell_type": "code",
   "execution_count": 49,
   "id": "564dae08",
   "metadata": {},
   "outputs": [
    {
     "name": "stdout",
     "output_type": "stream",
     "text": [
      "         Test  Accuracy  Precision   Recall  F-score\n",
      "K-N Neighbors  0.790675   0.745254 0.709121 0.724795\n",
      "          SGD  0.765953   0.737668 0.676326 0.691623\n",
      "Random Forest  0.803731   0.769260 0.714492 0.739317\n"
     ]
    }
   ],
   "source": [
    "# Print all metrics in table form\n",
    "metrics = {'Test': ['K-N Neighbors', 'SGD', 'Random Forest'], \n",
    "     'Accuracy': [kn_df_mean[0], sgd_df_mean[0], forest_df_mean[0]],\n",
    "     'Precision': [kn_df_mean[1], sgd_df_mean[1], forest_df_mean[1]],\n",
    "     'Recall': [kn_df_mean[2], sgd_df_mean[2], forest_df_mean[2]],\n",
    "     'F-score': [kn_df_mean[3], sgd_df_mean[3], forest_df_mean[3]]}\n",
    "df_metrics = pd.DataFrame(data=metrics)\n",
    "print(df_metrics.to_string(index = False))"
   ]
  },
  {
   "cell_type": "code",
   "execution_count": 50,
   "id": "67f5b46c",
   "metadata": {},
   "outputs": [
    {
     "data": {
      "text/plain": [
       "<Figure size 1600x600 with 0 Axes>"
      ]
     },
     "metadata": {},
     "output_type": "display_data"
    },
    {
     "data": {
      "image/png": "[encoded data removed]",
      "text/plain": [
       "<Figure size 900x800 with 1 Axes>"
      ]
     },
     "metadata": {},
     "output_type": "display_data"
    }
   ],
   "source": [
    "plt.figure(figsize=(16, 6))\n",
    "df_metrics.plot(x=\"Test\", y=[\"Accuracy\", \"Precision\", \"Recall\", \"F-score\"], kind=\"bar\", figsize=(9, 8))\n",
    "plt.legend(bbox_to_anchor=(1.05, 1), loc='upper left')\n",
    "plt.show()"
   ]
  },
  {
   "cell_type": "markdown",
   "id": "962758f9",
   "metadata": {},
   "source": [
    "Overall we can see that certain models favor certain performance metrics, but it seems like the the sake of predicting the survival of Titanic passengers Random Forest is probably your best bet. However, each model did perform very well scoring above 0.70 on most metrics and even hitting 0.80 on occasion. This shows that the data wrangling that was done leads to pretty effective results and that the exploratory data analysis was a success."
   ]
  }
 ],
 "metadata": {
  "kernelspec": {
   "display_name": "Python 3 (ipykernel)",
   "language": "python",
   "name": "python3"
  },
  "language_info": {
   "codemirror_mode": {
    "name": "ipython",
    "version": 3
   },
   "file_extension": ".py",
   "mimetype": "text/x-python",
   "name": "python",
   "nbconvert_exporter": "python",
   "pygments_lexer": "ipython3",
   "version": "3.10.9"
  }
 },
 "nbformat": 4,
 "nbformat_minor": 5
}
